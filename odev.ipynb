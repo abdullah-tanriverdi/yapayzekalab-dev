{
 "cells": [
  {
   "cell_type": "code",
   "execution_count": null,
   "id": "df11ac9e",
   "metadata": {
    "vscode": {
     "languageId": "plaintext"
    }
   },
   "outputs": [],
   "source": [
    "# 3B Evrişimsel Sinir Ağı ile Görüntü Verilerinin Analizi\n",
    "# PyTorch kullanarak örnek bir 3D CNN modeli\n",
    "\n",
    "import torch\n",
    "import torch.nn as nn\n",
    "import torch.optim as optim\n",
    "from torch.utils.data import Dataset, DataLoader\n",
    "import numpy as np\n",
    "\n",
    "# 1. Sahte 3B görüntü verileri oluştur\n",
    "class Dummy3DImageDataset(Dataset):\n",
    "    def __init__(self, num_samples=100, channels=1, depth=16, height=64, width=64):\n",
    "        self.data = torch.randn(num_samples, channels, depth, height, width)\n",
    "        self.labels = torch.randint(0, 2, (num_samples,))  # İkili sınıflandırma\n",
    "\n",
    "    def __len__(self):\n",
    "        return len(self.data)\n",
    "\n",
    "    def __getitem__(self, idx):\n",
    "        return self.data[idx], self.labels[idx]\n",
    "\n",
    "# 2. 3D CNN model tanımı\n",
    "class Simple3DCNN(nn.Module):\n",
    "    def __init__(self):\n",
    "        super(Simple3DCNN, self).__init__()\n",
    "        self.conv1 = nn.Conv3d(1, 8, kernel_size=3, padding=1)\n",
    "        self.pool = nn.MaxPool3d(2)\n",
    "        self.conv2 = nn.Conv3d(8, 16, kernel_size=3, padding=1)\n",
    "        self.fc1 = nn.Linear(16 * 4 * 16 * 16, 64)\n",
    "        self.fc2 = nn.Linear(64, 2)  # 2 sınıf\n",
    "\n",
    "    def forward(self, x):\n",
    "        x = self.pool(torch.relu(self.conv1(x)))\n",
    "        x = self.pool(torch.relu(self.conv2(x)))\n",
    "        x = x.view(-1, 16 * 4 * 16 * 16)\n",
    "        x = torch.relu(self.fc1(x))\n",
    "        x = self.fc2(x)\n",
    "        return x\n",
    "\n",
    "# 3. Eğitim fonksiyonu\n",
    "def train_model():\n",
    "    dataset = Dummy3DImageDataset()\n",
    "    dataloader = DataLoader(dataset, batch_size=8, shuffle=True)\n",
    "\n",
    "    model = Simple3DCNN()\n",
    "    criterion = nn.CrossEntropyLoss()\n",
    "    optimizer = optim.Adam(model.parameters(), lr=0.001)\n",
    "\n",
    "    num_epochs = 5\n",
    "    for epoch in range(num_epochs):\n",
    "        running_loss = 0.0\n",
    "        for inputs, labels in dataloader:\n",
    "            optimizer.zero_grad()\n",
    "            outputs = model(inputs)\n",
    "            loss = criterion(outputs, labels)\n",
    "            loss.backward()\n",
    "            optimizer.step()\n",
    "            running_loss += loss.item()\n",
    "        print(f\"Epoch {epoch + 1}, Loss: {running_loss / len(dataloader):.4f}\")\n",
    "\n",
    "    print(\"Eğitim tamamlandı.\")\n",
    "\n",
    "# 4. Modeli eğit\n",
    "train_model()\n"
   ]
  }
 ],
 "metadata": {
  "language_info": {
   "name": "python"
  }
 },
 "nbformat": 4,
 "nbformat_minor": 5
}
